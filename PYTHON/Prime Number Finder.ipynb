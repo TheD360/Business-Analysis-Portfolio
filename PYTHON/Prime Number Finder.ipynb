{
 "cells": [
  {
   "cell_type": "markdown",
   "id": "c92e0996-0078-4504-a867-839fd49a56f4",
   "metadata": {},
   "source": [
    "## Prime Number Finder\n",
    "Define a function that takes in a number 'n' and returns all the prime numbers from 1 to 'n' (inclusive).\n",
    "\n",
    "In this project you see the use of creating a function and the use of for loop.\n",
    "\n",
    "#### Reminder: \n",
    "A Prime number is a number that is only divisble by 1 and itself."
   ]
  },
  {
   "cell_type": "code",
   "execution_count": 6,
   "id": "df621658-1b49-4ebd-9ae4-3ac08d0e1e70",
   "metadata": {
    "tags": []
   },
   "outputs": [
    {
     "name": "stdout",
     "output_type": "stream",
     "text": [
      "Prime numbers from 1 to 100: [1, 2, 3, 5, 7, 11, 13, 17, 19, 23, 29, 31, 37, 41, 43, 47, 53, 59, 61, 67, 71, 73, 79, 83, 89, 97]\n"
     ]
    }
   ],
   "source": [
    "def prime_finder(n):\n",
    "    prime_numbers = []\n",
    "\n",
    "    for num in range(1, n + 1):\n",
    "        is_prime = True\n",
    "\n",
    "        for i in range(2, int(num**0.5) + 1):\n",
    "            if num % i == 0:\n",
    "                is_prime = False\n",
    "                break\n",
    "\n",
    "        if is_prime:\n",
    "            prime_numbers.append(num)\n",
    "\n",
    "    return prime_numbers\n",
    "\n",
    "# Example usage:\n",
    "n = 100\n",
    "result = prime_finder(n)\n",
    "print(f\"Prime numbers from 1 to {n}: {result}\")"
   ]
  },
  {
   "cell_type": "code",
   "execution_count": 7,
   "id": "8e0a347c-f107-4ce4-8aa9-595b346ae2ff",
   "metadata": {
    "tags": []
   },
   "outputs": [
    {
     "name": "stdout",
     "output_type": "stream",
     "text": [
      "Prime numbers from 1 to 50: [2, 3, 5, 7, 11, 13, 17, 19, 23, 29, 31, 37, 41, 43, 47]\n"
     ]
    }
   ],
   "source": [
    "def prime_finder(n):\n",
    "    prime_numbers = []\n",
    "\n",
    "    for num in range(2, n + 1):\n",
    "        is_prime = True\n",
    "\n",
    "        for i in range(2, int(num**0.5) + 1):\n",
    "            if num % i == 0:\n",
    "                is_prime = False\n",
    "                break\n",
    "\n",
    "        if is_prime:\n",
    "            prime_numbers.append(num)\n",
    "\n",
    "    return prime_numbers\n",
    "\n",
    "# Example usage:\n",
    "n = 50\n",
    "result = prime_finder(n)\n",
    "print(f\"Prime numbers from 1 to {n}: {result}\")"
   ]
  },
  {
   "cell_type": "markdown",
   "id": "9ff485e2-7c58-4309-b89e-8a20baea882a",
   "metadata": {},
   "source": [
    "This function above does the same thing but in this case the listing of prime numbers starts from 2 to 'n' the prime number."
   ]
  }
 ],
 "metadata": {
  "kernelspec": {
   "display_name": "Python 3 (ipykernel)",
   "language": "python",
   "name": "python3"
  },
  "language_info": {
   "codemirror_mode": {
    "name": "ipython",
    "version": 3
   },
   "file_extension": ".py",
   "mimetype": "text/x-python",
   "name": "python",
   "nbconvert_exporter": "python",
   "pygments_lexer": "ipython3",
   "version": "3.11.5"
  }
 },
 "nbformat": 4,
 "nbformat_minor": 5
}
