{
 "cells": [
  {
   "cell_type": "code",
   "execution_count": 2,
   "id": "b256310b-ecea-4307-b766-ff62dfdf12d8",
   "metadata": {
    "tags": []
   },
   "outputs": [
    {
     "name": "stdout",
     "output_type": "stream",
     "text": [
      "     Default  Checking_amount  Term  Credit_score     Sex Marital_status   \\\n",
      "0          0              988    15           796  Female          Single   \n",
      "1          0              458    15           813  Female          Single   \n",
      "2          0              158    14           756  Female          Single   \n",
      "3          1              300    25           737  Female          Single   \n",
      "4          1               63    24           662  Female          Single   \n",
      "..       ...              ...   ...           ...     ...             ...   \n",
      "995        1               17    21           562    Male         Married   \n",
      "996        0              590    18           873  Female          Single   \n",
      "997        0              343    16           824    Male         Married   \n",
      "998        0              709    16           811    Male         Married   \n",
      "999        0              991    15           794    Male         Married   \n",
      "\n",
      "     Car_loan  Personal_loan  Home_loan  Education_loan  Emp_status  Amount  \\\n",
      "0           1              0          0               0    employed    1536   \n",
      "1           1              0          0               0    employed     947   \n",
      "2           0              1          0               0    employed    1678   \n",
      "3           0              0          0               1    employed    1804   \n",
      "4           0              0          0               1  unemployed    1184   \n",
      "..        ...            ...        ...             ...         ...     ...   \n",
      "995         1              0          0               0  unemployed    1328   \n",
      "996         1              0          0               0  unemployed    1433   \n",
      "997         0              1          0               0  unemployed    1465   \n",
      "998         1              0          0               0  unemployed    1359   \n",
      "999         0              1          0               0  unemployed    1321   \n",
      "\n",
      "     Saving_amount  Emp_duration   Age  No_of_credit_acc  \n",
      "0             3455             12   38                 1  \n",
      "1             3600             25   36                 1  \n",
      "2             3093             43   34                 1  \n",
      "3             2449              0   29                 1  \n",
      "4             2867              4   30                 1  \n",
      "..             ...            ...  ...               ...  \n",
      "995           2658            118   28                 5  \n",
      "996           3469            108   29                 5  \n",
      "997           3426             99   31                 4  \n",
      "998           3114            113   28                 6  \n",
      "999           3309             95   33                 8  \n",
      "\n",
      "[1000 rows x 16 columns]\n"
     ]
    }
   ],
   "source": [
    "import pandas as pd\n",
    "import numpy as np\n",
    "from sklearn.model_selection import train_test_split\n",
    "from sklearn.preprocessing import StandardScaler, OneHotEncoder\n",
    "from sklearn.compose import ColumnTransformer\n",
    "from sklearn.pipeline import Pipeline\n",
    "from sklearn.linear_model import LogisticRegression\n",
    "from sklearn.metrics import roc_auc_score, roc_curve\n",
    "import statsmodels.api as sm\n",
    "import matplotlib.pyplot as plt\n",
    "\n",
    "# Load data\n",
    "loan_default = pd.read_csv(\"loan_default.csv\")\n",
    "\n",
    "print(loan_default)\n"
   ]
  },
  {
   "cell_type": "code",
   "execution_count": 6,
   "id": "2ad08199-e256-404c-b69d-fe894ab12283",
   "metadata": {
    "tags": []
   },
   "outputs": [],
   "source": [
    "# Create dummy variables (one-hot encoding)\n",
    "categorical_features = loan_default.select_dtypes(include=['object', 'category']).columns\n",
    "numerical_features = loan_default.select_dtypes(include=['int64', 'float64']).drop('Default', axis=1).columns\n",
    "\n",
    "preprocessor = ColumnTransformer(\n",
    "    transformers=[\n",
    "        ('num', StandardScaler(), numerical_features),\n",
    "        ('cat', OneHotEncoder(drop='first'), categorical_features)\n",
    "    ])"
   ]
  },
  {
   "cell_type": "code",
   "execution_count": 7,
   "id": "751e848c-24de-4ea0-accd-9ae8e0c79089",
   "metadata": {
    "tags": []
   },
   "outputs": [],
   "source": [
    "# Define the response and predictors\n",
    "X = loan_default.drop('Default', axis=1)\n",
    "y = loan_default['Default']\n",
    "\n",
    "# Partition Data (Training & Testing)\n",
    "X_train, X_test, y_train, y_test = train_test_split(X, y, test_size=0.2, random_state=99, stratify=y)"
   ]
  },
  {
   "cell_type": "code",
   "execution_count": 8,
   "id": "d490d21e-38de-4853-8e74-3eb4ce13cd83",
   "metadata": {
    "tags": []
   },
   "outputs": [],
   "source": [
    "# Pipeline including preprocessing and model\n",
    "model = Pipeline(steps=[\n",
    "    ('preprocessor', preprocessor),\n",
    "    ('classifier', LogisticRegression(solver='liblinear'))\n",
    "])"
   ]
  },
  {
   "cell_type": "code",
   "execution_count": 9,
   "id": "94a55007-9f72-4517-b530-930a00623d59",
   "metadata": {
    "tags": []
   },
   "outputs": [],
   "source": [
    "# Train the model\n",
    "model.fit(X_train, y_train)\n",
    "\n",
    "# Predict probabilities\n",
    "y_train_pred_proba = model.predict_proba(X_train)[:, 1]\n",
    "y_test_pred_proba = model.predict_proba(X_test)[:, 1]"
   ]
  },
  {
   "cell_type": "code",
   "execution_count": 10,
   "id": "e13cf305-aee1-4a91-99cc-8d9b1d940284",
   "metadata": {
    "tags": []
   },
   "outputs": [
    {
     "name": "stdout",
     "output_type": "stream",
     "text": [
      "Training AUC: 0.98\n",
      "Testing AUC: 0.97\n"
     ]
    }
   ],
   "source": [
    "# Calculate AUC\n",
    "train_auc = roc_auc_score(y_train, y_train_pred_proba)\n",
    "test_auc = roc_auc_score(y_test, y_test_pred_proba)\n",
    "\n",
    "print(f'Training AUC: {train_auc:.2f}')\n",
    "print(f'Testing AUC: {test_auc:.2f}')"
   ]
  },
  {
   "cell_type": "code",
   "execution_count": 12,
   "id": "0f82b9b8-1a20-40e1-9250-c940979bfab2",
   "metadata": {
    "tags": []
   },
   "outputs": [
    {
     "data": {
      "image/png": "[encoded data removed]",
      "text/plain": [
       "<Figure size 640x480 with 1 Axes>"
      ]
     },
     "metadata": {},
     "output_type": "display_data"
    }
   ],
   "source": [
    "# Plot ROC Curve\n",
    "fpr, tpr, _ = roc_curve(y_test, y_test_pred_proba)\n",
    "plt.figure()\n",
    "plt.plot(fpr, tpr, color='darkorange', lw=2, label='ROC curve')\n",
    "plt.plot([0, 1], [0, 1], color='navy', lw=2, linestyle='--')\n",
    "plt.xlim([0.0, 1.0])\n",
    "plt.ylim([0.0, 1.05])\n",
    "plt.xlabel('False Positive Rate')\n",
    "plt.ylabel('True Positive Rate')\n",
    "plt.title('Receiver Operating Characteristic')\n",
    "plt.legend(loc=\"lower right\")\n",
    "plt.show()"
   ]
  },
  {
   "cell_type": "code",
   "execution_count": null,
   "id": "cf121fc3-5bcd-4659-805d-c05b6ba9c98b",
   "metadata": {},
   "outputs": [],
   "source": [
    "# Explanation of Steps taken in project:\n",
    "# 1. Load Data: Reads the CSV file containing the loan default data.\n",
    "# 2. Create Dummy Variables: Uses ColumnTransformer to apply StandardScaler to numerical features and OneHotEncoder to categorical features.\n",
    "# 3. Partition Data: Splits the dataset into training and testing sets.\n",
    "# 4. Model Pipeline: Constructs a pipeline with preprocessing and logistic regression.\n",
    "# 5. Training: Fits the model to the training data.\n",
    "# 6. Predicting and Evaluating: Predicts probabilities for the training and testing sets and calculates the AUC. It also plots the ROC curve."
   ]
  }
 ],
 "metadata": {
  "kernelspec": {
   "display_name": "Python 3 (ipykernel)",
   "language": "python",
   "name": "python3"
  },
  "language_info": {
   "codemirror_mode": {
    "name": "ipython",
    "version": 3
   },
   "file_extension": ".py",
   "mimetype": "text/x-python",
   "name": "python",
   "nbconvert_exporter": "python",
   "pygments_lexer": "ipython3",
   "version": "3.11.5"
  }
 },
 "nbformat": 4,
 "nbformat_minor": 5
}
