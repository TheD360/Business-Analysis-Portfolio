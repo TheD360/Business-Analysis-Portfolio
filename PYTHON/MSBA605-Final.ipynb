{
 "cells": [
  {
   "cell_type": "markdown",
   "metadata": {},
   "source": [
    "## This Python Script contains my codes and submissions for the Final exam Python for Analytics, taken as part of my completion criteria for a  Masters of Science in Business Analytics degreee. (Python class/course)\n",
    "\n",
    "In this part of the exam. I scored an 86 out of 75 for getting all the problem sets right and for doing the extra credit correctly as well."
   ]
  },
  {
   "cell_type": "markdown",
   "metadata": {},
   "source": [
    "# MSBA 605-77 - Python for Analytics\n",
    "### Final Exam Part 2 (practical)\n",
    "### 75 of 150 pts.\n",
    "### Directions\n",
    "\n",
    "1. Answer each question in the cells provided.\n",
    "2. When finished, save your work, close the Jupyter Lab file, and Shut Down Jupyter Lab. You will upload this Jupyter Notebook file as your submission for Final Exam, Part 2 in Blackboard.\n",
    "3. Be sure to keep an unaltered version of this file just in case anything goes wrong in Blackboard.\n",
    "\n",
    "__Name__: DANIEL ADIELE <br>"
   ]
  },
  {
   "cell_type": "markdown",
   "metadata": {},
   "source": [
    "## Part 1 - Short Code Questions"
   ]
  },
  {
   "cell_type": "code",
   "execution_count": 1,
   "metadata": {
    "tags": []
   },
   "outputs": [],
   "source": [
    "import numpy as np  # Please run this prior to running other cells below\n",
    "import pandas as pd # Please run this prior to running other cells below\n",
    "import matplotlib.pyplot as plt # Please run this prior to running other cells below\n",
    "import seaborn as sns # Please run this prior to running other cells below"
   ]
  },
  {
   "cell_type": "markdown",
   "metadata": {},
   "source": [
    "### Problem 1\n",
    "Write a Python code fragment in the code cell below that prints every _fifth_ number (each on a separate line) from 50 down to 25 (inclusive), so 50, 45, 40, ..., 25. Use whichever loop you prefer. Strive for code that is clear and efficient. (3 pts.)"
   ]
  },
  {
   "cell_type": "code",
   "execution_count": 5,
   "metadata": {},
   "outputs": [
    {
     "name": "stdout",
     "output_type": "stream",
     "text": [
      "50\n",
      "45\n",
      "40\n",
      "35\n",
      "30\n",
      "25\n"
     ]
    }
   ],
   "source": [
    "for num in range(50, 24, -5):\n",
    "    print(num)"
   ]
  },
  {
   "cell_type": "markdown",
   "metadata": {},
   "source": [
    "### Problem 2\n",
    "\n",
    "Write a Python code fragment in the code cell below that uses separate <u>slice operations</u> to perform each of the following tasks on the list of numbers provided below. (2 pts. each)\n",
    "\n",
    "a. Use a slice operation to select only the _odd_ integers from `numbers` (every other value) and print the resulting list. In other words, a slice that produces `[5, 7, 9, 11, 13]`.\n",
    "\n",
    "b. Use a slice operation to select the _first half_ of the integers from `numbers` and print the resulting list. In other words, a slice that produces `[5, 6, 7, 8, 9]`."
   ]
  },
  {
   "cell_type": "code",
   "execution_count": 10,
   "metadata": {},
   "outputs": [
    {
     "name": "stdout",
     "output_type": "stream",
     "text": [
      "[5, 6, 7, 8, 9, 10, 11, 12, 13, 14]\n",
      "\n",
      "Odd numbers within the list: [5, 7, 9, 11, 13]\n",
      "\n",
      "First half of intergers within the list [5, 6, 7, 8, 9]\n"
     ]
    }
   ],
   "source": [
    "numbers = list(range(5, 15))\n",
    "print(numbers)\n",
    "\n",
    "odd_numbers = numbers[::2]\n",
    "print(\"\\nOdd numbers within the list:\", odd_numbers)\n",
    "\n",
    "first_half = numbers[:len(numbers) // 2]\n",
    "print(\"\\nFirst half of intergers within the list\", first_half)"
   ]
  },
  {
   "cell_type": "markdown",
   "metadata": {},
   "source": [
    "### Problem 3\n",
    "Write a Python code fragment in the code cell below that defines a function named `classify_hurricane` that accepts a hurricane's wind speed (an integer) as a parameter and returns its category (an integer) on the Saffir-Simpson scale. The Saffir-Simpson Hurricane Scale classifies hurricanes into five categories numbered 1 through 5 as shown below. Category 5 hurricanes have sustained winds of at least 157 miles per hour. The minimum sustained wind speeds for categories 4 through 1 are 130, 111, 96, and 74 miles per hour, respectively. Any storm with winds of less than 74 miles per hour is not a hurricane. Your function should return the category as an integer from 1-5 or -1 if the wind speed passed is less than 74 miles per hour. The provided code tests the function with several wind speeds and does not need to be modified. Strive for code that is clear and efficient. (7 pts.)\n",
    "\n",
    "| Category | Minimum Wind Speed |\n",
    "| -------- | ------------------ |\n",
    "| 5        | 157                |\n",
    "| 4        | 130                |\n",
    "| 3        | 111                |\n",
    "| 2        |  96                |\n",
    "| 1        |  74                |"
   ]
  },
  {
   "cell_type": "code",
   "execution_count": 14,
   "metadata": {},
   "outputs": [
    {
     "name": "stdout",
     "output_type": "stream",
     "text": [
      "Speed of 160 is Category 5\n",
      "Speed of 110 is Category 2\n",
      "Speed of 70 is Category -1\n"
     ]
    }
   ],
   "source": [
    "def classify_hurricane(wind_speed):\n",
    "    if wind_speed >= 157:\n",
    "        return 5\n",
    "    elif wind_speed >= 130:\n",
    "        return 4\n",
    "    elif wind_speed >= 111:\n",
    "        return 3\n",
    "    elif wind_speed >= 96:\n",
    "        return 2\n",
    "    elif wind_speed >= 74:\n",
    "        return 1\n",
    "    else:\n",
    "        return -1\n",
    "\n",
    "# Do not modify the code below\n",
    "speed = 160 # Category 5\n",
    "print(f'Speed of {speed} is Category {classify_hurricane(speed)}')\n",
    "speed = 110 # Category 2\n",
    "print(f'Speed of {speed} is Category {classify_hurricane(speed)}')\n",
    "speed = 70 # Category -1 (not a hurricane)\n",
    "print(f'Speed of {speed} is Category {classify_hurricane(speed)}')"
   ]
  },
  {
   "cell_type": "markdown",
   "metadata": {},
   "source": [
    "### Problem 4\n",
    "Write a Python code fragment in the code cell below that defines a function named `factorial` that takes a non-negative integer as a parameter and returns the factorial of that number. Solve this by using a __for__ loop. This is an example of the accumulator pattern with a running product. You may assume that the parameter is a non-negative integer without testing for this. The provided code tests the function with a couple of numbers and does not need to be modified. Strive for code that is clear and efficient. (6 pts.)\n",
    "\n",
    "Remember: n! = (1)x(2)x(3)x ... x(n-1)x(n) for values of n greater than or equal to 1, with 0! defined to be 1."
   ]
  },
  {
   "cell_type": "code",
   "execution_count": 15,
   "metadata": {},
   "outputs": [
    {
     "name": "stdout",
     "output_type": "stream",
     "text": [
      "The factorial of 0 is 1\n",
      "The factorial of 5 is 120\n"
     ]
    }
   ],
   "source": [
    "def factorial(n):\n",
    "    result = 1\n",
    "    for i in range(1, n + 1):\n",
    "        result *= i\n",
    "    return result\n",
    "\n",
    "# Do not modify the code below\n",
    "num = 0 # Factorial == 1\n",
    "print(f'The factorial of {num} is {factorial(num)}')\n",
    "num = 5 # Factorial == 120\n",
    "print(f'The factorial of {num} is {factorial(num)}')"
   ]
  },
  {
   "cell_type": "markdown",
   "metadata": {},
   "source": [
    "### Problem 5\n",
    "Write a Python code fragment in the code cell below that uses a _list comprehension_ to create a new list that filters the provided list of fruit names to include only those that have the letter 'a' in their name (ignore the case of the letters in the word when filtering). Strive for code that is clear and efficient. (6 pts.)"
   ]
  },
  {
   "cell_type": "code",
   "execution_count": 19,
   "metadata": {},
   "outputs": [
    {
     "name": "stdout",
     "output_type": "stream",
     "text": [
      "['Apple', 'banana', 'MANGO', 'orange']\n"
     ]
    }
   ],
   "source": [
    "fruits = ['Apple', 'banana', 'blueberry', 'cherry', 'kiwi', 'MANGO', 'orange']\n",
    "filtered_fruits = [fruit for fruit in fruits if 'a' in fruit.lower()]\n",
    "\n",
    "print(filtered_fruits)"
   ]
  },
  {
   "cell_type": "markdown",
   "metadata": {},
   "source": [
    "### Problem 6\n",
    "Write a Python code fragment in the code cell below to create a <u>hard-coded</u> `synonyms` dictionary that maps the words in the table below (each word is the dictionary's key) to lists containing the three specified synonyms for each word (each list of synonyms is the associated value for each key). Print a report that formats the dictionary’s contents with each word (in <u>alphabetical</u> order) on a separate line followed by 3 indented lines with one synonym per line. Strive for code that is clear and efficient. __Note__: This is not a Natural Language Processing problem. You're just creating a <u>hard-coded</u> dictionary with the words and lists of synonyms specified in the table below. (7 pts.)\n",
    "\n",
    "| Word | List of Synonyms |\n",
    "| ---- | ---------------- |\n",
    "| happy | jolly, jovial, merry|\n",
    "| excited | animated, exuberant, thrilled |\n",
    "| pretty | attractive, charming, lovely |\n",
    "| cozy | comfortable, snug, warm |\n",
    "| thankful | grateful, pleased, satisfied |\n",
    "\n",
    "The output should be formatted as below:\n",
    "<pre>\n",
    "cozy\n",
    "   comfortable\n",
    "   snug\n",
    "   warm\n",
    "excited\n",
    "   animated\n",
    "   exuberant\n",
    "   thrilled\n",
    "...\n",
    "</pre>"
   ]
  },
  {
   "cell_type": "code",
   "execution_count": 22,
   "metadata": {},
   "outputs": [
    {
     "name": "stdout",
     "output_type": "stream",
     "text": [
      "cozy:\n",
      "  comfortable\n",
      "  snug\n",
      "  warm\n",
      "excited:\n",
      "  animated\n",
      "  exuberant\n",
      "  thrilled\n",
      "happy:\n",
      "  jolly\n",
      "  jovial\n",
      "  merry\n",
      "pretty:\n",
      "  attractive\n",
      "  charming\n",
      "  lovely\n",
      "thankful:\n",
      "  grateful\n",
      "  pleased\n",
      "  satisfied\n"
     ]
    }
   ],
   "source": [
    "synonym_dict = {\n",
    "    \"happy\": [\"jolly\", \"jovial\", \"merry\"],\n",
    "    \"excited\": [\"animated\", \"exuberant\", \"thrilled\"],\n",
    "    \"pretty\": [\"attractive\", \"charming\", \"lovely\"],\n",
    "    \"cozy\": [\"comfortable\", \"snug\", \"warm\"],\n",
    "    \"thankful\": [\"grateful\", \"pleased\", \"satisfied\"]\n",
    "}\n",
    "\n",
    "# Print report\n",
    "for word, synonyms in sorted(synonym_dict.items()):\n",
    "    print(word + \":\")\n",
    "    for synonym in synonyms:\n",
    "        print(\"  \" + synonym)"
   ]
  },
  {
   "cell_type": "markdown",
   "metadata": {},
   "source": [
    "### Problem 7\n",
    "In the code cell below, write a Python script that uses a _lambda expression_ in a call to the text's `apply_to_list` function from [Section 3.2](https://wesmckinney.com/book/python-builtin#functions_lambda ) (provided below) that will return the _square_ of each value in the specified list. Print the original list and the returned list of squares. (5 pts.)"
   ]
  },
  {
   "cell_type": "code",
   "execution_count": 26,
   "metadata": {},
   "outputs": [
    {
     "name": "stdout",
     "output_type": "stream",
     "text": [
      "Original List: [2, 7, 8, 10, 11]\n",
      "Squared list: [4, 49, 64, 100, 121]\n"
     ]
    }
   ],
   "source": [
    "def apply_to_list(some_list, f):\n",
    "    return [f(x) for x in some_list]\n",
    "\n",
    "test_list = [2, 7, 8, 10, 11]\n",
    "\n",
    "squared_list = apply_to_list(test_list, lambda x: x**2)\n",
    "\n",
    "print(\"Original List:\", test_list)\n",
    "print(\"Squared list:\", squared_list)"
   ]
  },
  {
   "cell_type": "markdown",
   "metadata": {},
   "source": [
    "### Problem 8\n",
    "In the code cell below, write a Python script that uses NumPy to create two arrays: one called `students` with `'Janet'`, `'Adriana'`, `'Manuel'`, `'Mohamed'`, `'Leann'` as values and another called `grades` with `[93, 85]`, `[78, 80]`, `[94, 93]`, `[75, 90]`, `[92, 87]` as values. Calculate the average (mean) grade for each student and store these in a new NumPy array called `means`. Also calculate the overall average (mean) grade of the class using all the grades in the `grades` array. Use Boolean indexing to select the names of the students whose average grade is greater than or equal to the overall average grade of the class. Print all the arrays and calculated results. (7 pts.)"
   ]
  },
  {
   "cell_type": "code",
   "execution_count": 37,
   "metadata": {},
   "outputs": [
    {
     "name": "stdout",
     "output_type": "stream",
     "text": [
      "Students:\n",
      "['Janet' 'Adriana' 'Manuel' 'Mohamed' 'Leann']\n",
      "\n",
      "Grades:\n",
      "[[93 85]\n",
      " [78 80]\n",
      " [94 93]\n",
      " [75 90]\n",
      " [92 87]]\n",
      "\n",
      "Mean grades for each student:\n",
      "[89.  79.  93.5 82.5 89.5]\n",
      "\n",
      "Overall average grade of the class:\n",
      "86.7\n",
      "\n",
      "Student with average grades greater than or equal to the overall average grade of the class:\n",
      "['Janet' 'Manuel' 'Leann']\n"
     ]
    }
   ],
   "source": [
    "import numpy as np\n",
    "\n",
    "students = np.array(['Janet', 'Adriana', 'Manuel', 'Mohamed', 'Leann'])\n",
    "grades = np.array([[93, 85], [78, 80], [94, 93], [75, 90], [92, 87]])\n",
    "\n",
    "means = np.mean(grades, axis=1)\n",
    "\n",
    "class_mean = np.mean(grades)\n",
    "\n",
    "abv_average_stud = students[means >= class_mean]\n",
    "\n",
    "print(\"Students:\")\n",
    "print(students)\n",
    "\n",
    "print(\"\\nGrades:\")\n",
    "print(grades)\n",
    "\n",
    "print(\"\\nMean grades for each student:\")\n",
    "print(means)\n",
    "\n",
    "print(\"\\nOverall average grade of the class:\")\n",
    "print(class_mean)\n",
    "\n",
    "print(\"\\nStudent with average grades greater than or equal to the overall average grade of the class:\")\n",
    "print(abv_average_stud)\n"
   ]
  },
  {
   "cell_type": "markdown",
   "metadata": {},
   "source": [
    "### Problem 9\n",
    "In the code cell below, write a Python script that uses NumPy to generate 10 random guesses of integers between 1 - 100 (inclusive). First, create a fresh random number generator using `seed=111111`. Next, use the `integers` method of the random number generator to generate the 10 random guesses and store the result in a NumPy array. Prompt the user to enter an integer between 1 - 100 (inclusive) and then determine if the entered number appears in the array of random guesses you generated. Print the array of random guesses and whether the number entered appears in this array. (7 pts.)"
   ]
  },
  {
   "cell_type": "code",
   "execution_count": 43,
   "metadata": {},
   "outputs": [
    {
     "name": "stdout",
     "output_type": "stream",
     "text": [
      "Enter an integer between 1 and 100:  20\n"
     ]
    },
    {
     "name": "stdout",
     "output_type": "stream",
     "text": [
      "The entered number 20 does not appear in the array of random guesses.\n",
      "Random Guesses: [77 35 56 67 43 90 23 56  2 41]\n"
     ]
    }
   ],
   "source": [
    "import numpy as np\n",
    "from numpy.random import Generator, PCG64\n",
    "\n",
    "seed = 111111\n",
    "rng = Generator(PCG64(seed))\n",
    "\n",
    "random_guesses = rng.integers(1, 101, size=10)\n",
    "\n",
    "user_input = int(input(\"Enter an integer between 1 and 100: \"))\n",
    "\n",
    "# A loop to check if the entered number appears in the array of random guesses\n",
    "if user_input in random_guesses:\n",
    "    print(f\"The entered number {user_input} appears in the array of random guesses.\")\n",
    "else:\n",
    "    print(f\"The entered number {user_input} does not appear in the array of random guesses.\")\n",
    "\n",
    "print(\"Random Guesses:\", random_guesses)"
   ]
  },
  {
   "cell_type": "markdown",
   "metadata": {},
   "source": [
    "### Problem 10\n",
    "In the code cell below, read in the file called `world-population.csv` to a pandas DataFrame. Make sure you store this Notebook file and the provided `.csv` file in the same folder location. This way, you can simply use the filename without additional path information when reading the file. Use DataFrame methods `.isna()` and `sum` to show that all columns in the DataFrame have zero missing data. (6 pts)"
   ]
  },
  {
   "cell_type": "code",
   "execution_count": 49,
   "metadata": {
    "tags": []
   },
   "outputs": [
    {
     "name": "stdout",
     "output_type": "stream",
     "text": [
      "Missing data count in each column:\n",
      "year                           0\n",
      "population                     0\n",
      "yearly_growth_percentage       0\n",
      "yearly_growth                  0\n",
      "pop_density_km2                0\n",
      "urban_population               0\n",
      "urban_population_percentage    0\n",
      "dtype: int64\n"
     ]
    }
   ],
   "source": [
    "import pandas as pd\n",
    "import numpy as np\n",
    "\n",
    "filename = 'world-population.csv'\n",
    "\n",
    "df = pd.read_csv(filename)\n",
    "# df.head()\n",
    "\n",
    "missing_data = df.isna().sum()\n",
    "\n",
    "print(\"Missing data count in each column:\")\n",
    "print(missing_data)"
   ]
  },
  {
   "cell_type": "markdown",
   "metadata": {},
   "source": [
    "### Problem 11\n",
    "In the code cell below, determine which year(s) from the DataFrame you read in above have the largest `yearly_growth`. In this dataset, there is only one year with the maximum `yearly_growth` but your code should, ideally, be able to return a Series with all the years associated with the same maximum value of `yearly_growth`. (6 pts.)"
   ]
  },
  {
   "cell_type": "code",
   "execution_count": 50,
   "metadata": {},
   "outputs": [
    {
     "name": "stdout",
     "output_type": "stream",
     "text": [
      "Year(s) with the Largest Yearly Growth:\n",
      "37    1988\n",
      "Name: year, dtype: int64\n"
     ]
    }
   ],
   "source": [
    "max_yearly_growth = df['yearly_growth'].max()\n",
    "\n",
    "max_growth_years = df[df['yearly_growth'] == max_yearly_growth]\n",
    "\n",
    "years_with_max_growth = max_growth_years['year']\n",
    "\n",
    "print(\"Year(s) with the Largest Yearly Growth:\")\n",
    "print(years_with_max_growth)"
   ]
  },
  {
   "cell_type": "markdown",
   "metadata": {},
   "source": [
    "### Problem 12\n",
    "Finally, let's explore if a linear relationship may exist between between urban population and overall population by using seaborn to create a `regplot` or `lmplot`. Use `urban_population` as the `x` variable and `population` as the `y` variable. Your DataFrame will be the `data` argument. (5 pts.)"
   ]
  },
  {
   "cell_type": "code",
   "execution_count": 53,
   "metadata": {
    "tags": []
   },
   "outputs": [
    {
     "data": {
      "image/png": "[encoded data removed]",
      "text/plain": [
       "<Figure size 640x480 with 1 Axes>"
      ]
     },
     "metadata": {},
     "output_type": "display_data"
    }
   ],
   "source": [
    "import seaborn as sns\n",
    "import matplotlib.pyplot as plt\n",
    "\n",
    "sns.regplot(x='urban_population', y='population', data=df)\n",
    "\n",
    "plt.xlabel(\"Urban Population\")\n",
    "plt.ylabel(\"Population\")\n",
    "\n",
    "plt.title(\"Linear relationship between Urban Population and Overall Population\")\n",
    "plt.show()"
   ]
  },
  {
   "cell_type": "markdown",
   "metadata": {},
   "source": [
    "### Problem 13\n",
    "Using the pandas DataFrame defined below, create a stacked vertical bar plot. The groups should be listed along the x-axis. Give the plot a title of `'Final Exam Stacked Bar Plot'` Be sure a legend showing the categories is displayed in an appropriate area of the plot (not overlapping with any of the bars). (6 pts.)"
   ]
  },
  {
   "cell_type": "code",
   "execution_count": 55,
   "metadata": {
    "tags": []
   },
   "outputs": [
    {
     "data": {
      "image/png": "[encoded data removed]",
      "text/plain": [
       "<Figure size 800x600 with 1 Axes>"
      ]
     },
     "metadata": {},
     "output_type": "display_data"
    }
   ],
   "source": [
    "import pandas as pd\n",
    "import matplotlib.pyplot as plt\n",
    "\n",
    "# DataFrame to plot\n",
    "data = {\n",
    "    'Category A': [30, 40, 20],\n",
    "    'Category B': [20, 30, 30],\n",
    "    'Category C': [50, 30, 10]\n",
    "}\n",
    "index = ['Group 1', 'Group 2', 'Group 3']\n",
    "df = pd.DataFrame(data, index=index)\n",
    "\n",
    "ax = df.plot(kind='bar', stacked=True, figsize=(8, 6))\n",
    "\n",
    "plt.title('Final Exam Stacked Bar Plot')\n",
    "\n",
    "plt.legend(bbox_to_anchor=(1.05, 1), loc='upper left')\n",
    "plt.xlabel('Groups')\n",
    "plt.ylabel('Scores')\n",
    "\n",
    "plt.show()"
   ]
  },
  {
   "cell_type": "markdown",
   "metadata": {},
   "source": [
    "### Problem 14 - __Extra Credit__\n",
    "> __Note__: If you installed Miniconda and created the `pydata-book` environment as directed in [Section 1.4](https://wesmckinney.com/book/preliminaries#installation_and_setup), you will need to install scikit-learn before you use it, using `conda install scikit-learn` at the Anaconda prompt or Terminal. You will need to shut down Jupyter before you use conda to install the scikit-learn module as above.\n",
    "\n",
    "In our Intro to Machine Learning Notebook, we used supervised learning with the Digits dataset to classify its samples. For __5 pts. Extra Credit__, perform a similar analysis on the [Breast Cancer Wisconsin Diagnostic dataset](https://scikit-learn.org/stable/datasets/toy_dataset.html#breast-cancer-wisconsin-diagnostic-dataset). The dataset contains 569 samples, each with 30 features and a label indicating whether a tumor was malignant (0) or benign (1). This type of classification where there are only two classes is referred to as _binary classification_. Using this dataset, train a similar classification model as in the Intro to Machine Learning Notebook's classification case study with the Digits dataset. Use the `GaussianNB` (short for [Gaussian Naive Bayes](https://scikit-learn.org/stable/modules/generated/sklearn.naive_bayes.GaussianNB.html)) estimator. Print a classification report and visualize the confusion matrix using a heatmap. What prediction accuracy did you achieve?"
   ]
  },
  {
   "cell_type": "code",
   "execution_count": 60,
   "metadata": {},
   "outputs": [
    {
     "name": "stdout",
     "output_type": "stream",
     "text": [
      "Accuracy: 0.97\n",
      "              precision    recall  f1-score   support\n",
      "\n",
      "           0       1.00      0.93      0.96        43\n",
      "           1       0.96      1.00      0.98        71\n",
      "\n",
      "    accuracy                           0.97       114\n",
      "   macro avg       0.98      0.97      0.97       114\n",
      "weighted avg       0.97      0.97      0.97       114\n",
      "\n"
     ]
    },
    {
     "data": {
      "image/png": "[encoded data removed]",
      "text/plain": [
       "<Figure size 640x480 with 2 Axes>"
      ]
     },
     "metadata": {},
     "output_type": "display_data"
    }
   ],
   "source": [
    "from sklearn.datasets import load_breast_cancer\n",
    "from sklearn.model_selection import train_test_split\n",
    "from sklearn.naive_bayes import GaussianNB\n",
    "from sklearn.metrics import accuracy_score, classification_report, confusion_matrix\n",
    "import seaborn as sns\n",
    "import matplotlib.pyplot as plt\n",
    "\n",
    "data = load_breast_cancer()\n",
    "X, y = data.data, data.target\n",
    "\n",
    "X_train, X_test, y_train, y_test = train_test_split(X, y, test_size=0.2, random_state=42)\n",
    "\n",
    "model = GaussianNB()\n",
    "model.fit(X_train, y_train)\n",
    "\n",
    "y_pred = model.predict(X_test)\n",
    "\n",
    "accuracy = accuracy_score(y_test, y_pred)\n",
    "print(f\"Accuracy: {accuracy:.2f}\")\n",
    "\n",
    "print(classification_report(y_test, y_pred))\n",
    "\n",
    "cm = confusion_matrix(y_test, y_pred)\n",
    "sns.heatmap(cm, annot=True, fmt=\"d\")\n",
    "plt.xlabel(\"Predicted\")\n",
    "plt.ylabel(\"True\")\n",
    "plt.show()"
   ]
  },
  {
   "cell_type": "markdown",
   "metadata": {},
   "source": [
    "## Part 2 - __Extra Credit__ Short Answer/Essay Questions"
   ]
  },
  {
   "cell_type": "markdown",
   "metadata": {},
   "source": [
    "### Problem 1\n",
    "Compare and contrast the _list_ and _dictionary_ collections in Python in basic terms (e.g. sequential storage vs associative). (2 pts.)"
   ]
  },
  {
   "cell_type": "markdown",
   "metadata": {},
   "source": [
    "1. List are ordered, indexed collections of items and are known to use sequential storage where as dictionary is known to use associative storage, key-value pairs.\n",
    "\n",
    "2. List can store or house heterogeneous data types in a singel list at the same time, where as dictionary can only store homogeneous values or a single data types in a particular dictionary.\n",
    "\n",
    "3. Both are mutable; Lists are mutable, dictionaries are also mutable as well, meaning you can add, modify and remove data from both of them.\n",
    "\n",
    "4. Duplicates are allowed in lists, where as duplicates are not allowed in dictionaries ('No duplicate keys').\n",
    "\n",
    "5. Lists are accessed by index, dictionaries are accessed by 'keys' (each key in a dictionary is unique and is used to access the vaule pair stored in association with it)."
   ]
  },
  {
   "cell_type": "markdown",
   "metadata": {},
   "source": [
    "### Problem 2\n",
    "Explain the meaning of the terms _mutable_ and _immutable_ with regard to Python collections. Which is a _string_? Which is a _list_? (2 pts.)"
   ]
  },
  {
   "cell_type": "markdown",
   "metadata": {},
   "source": [
    "In python the term 'mutable' refers to an object that can be modified or altered after it has been created. Whereas an 'immutable'refers to an object that cannot be changed or modified after it has been created.\n",
    "\n",
    "In this light a 'string' is conisder an immutable in python and a 'list' is considered 'mutable'. A string cannot be changed or modified after it has been created whereas a list can be changed or modified after it has been changed.\n",
    "\n",
    "Further note, the content of string cannot be modified or changed after it has been created, where as the content of a list can be modified or changed after it has been created."
   ]
  },
  {
   "cell_type": "markdown",
   "metadata": {},
   "source": [
    "### Problem 3\n",
    "Python uses __try__ statements to enable exception handling. Explain the purpose of each of the following clauses that may appear in a __try__ statement: __try__ clause, __except__ clause(s), __else__ clause, and __finally__ clause. (2 pts.)"
   ]
  },
  {
   "cell_type": "markdown",
   "metadata": {},
   "source": [
    "Try clause: The 'try' clause is where you place the code that might raise exceptions or errors during its execution.\n",
    "\n",
    "Except clause: The 'except' clause follows the 'try' block and are used to catch and handle specific exceptions. You can have multiple 'except' clauses to catch different types of exceptions.\n",
    "\n",
    "Else clause: This clause is optional and comes after all the 'except' clauses. If there are no exceptions raised in the try block, the code in the else block will be executed.\n",
    "\n",
    "Finally clause: This clause is also optional and come after the 'expect' and 'else' clasues. This clause will always execute regardless of whether an exception was raised or not. This clause is often used to release resources such as files or databases connections, ensuring cleanup tasks occur, and providing a guarantee that certain operations are completed."
   ]
  }
 ],
 "metadata": {
  "kernelspec": {
   "display_name": "Python 3 (ipykernel)",
   "language": "python",
   "name": "python3"
  },
  "language_info": {
   "codemirror_mode": {
    "name": "ipython",
    "version": 3
   },
   "file_extension": ".py",
   "mimetype": "text/x-python",
   "name": "python",
   "nbconvert_exporter": "python",
   "pygments_lexer": "ipython3",
   "version": "3.11.5"
  }
 },
 "nbformat": 4,
 "nbformat_minor": 4
}
